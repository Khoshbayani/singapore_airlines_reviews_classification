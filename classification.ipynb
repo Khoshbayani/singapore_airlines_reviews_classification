{
 "cells": [
  {
   "cell_type": "code",
   "execution_count": 1,
   "id": "a6a9e5e6",
   "metadata": {
    "ExecuteTime": {
     "end_time": "2024-03-28T12:02:19.499579Z",
     "start_time": "2024-03-28T12:02:19.455270400Z"
    },
    "collapsed": true,
    "execution": {
     "iopub.execute_input": "2024-03-28T12:06:32.410093Z",
     "iopub.status.busy": "2024-03-28T12:06:32.409635Z",
     "iopub.status.idle": "2024-03-28T12:06:35.414185Z",
     "shell.execute_reply": "2024-03-28T12:06:35.412926Z"
    },
    "jupyter": {
     "outputs_hidden": true
    },
    "papermill": {
     "duration": 3.015084,
     "end_time": "2024-03-28T12:06:35.416595",
     "exception": false,
     "start_time": "2024-03-28T12:06:32.401511",
     "status": "completed"
    },
    "tags": []
   },
   "outputs": [],
   "source": [
    "import pandas as pd\n",
    "from string import punctuation\n",
    "from nltk.corpus import stopwords\n",
    "from nltk.tokenize import word_tokenize\n",
    "from nltk.stem import PorterStemmer\n",
    "from sklearn.feature_extraction.text import TfidfVectorizer\n",
    "from sklearn.neighbors import KNeighborsClassifier\n",
    "from sklearn.model_selection import train_test_split\n",
    "from sklearn.svm import SVC"
   ]
  },
  {
   "cell_type": "code",
   "execution_count": 2,
   "id": "2fd4a96a",
   "metadata": {
    "ExecuteTime": {
     "end_time": "2024-03-28T12:02:19.585806300Z",
     "start_time": "2024-03-28T12:02:19.456292600Z"
    },
    "collapsed": false,
    "execution": {
     "iopub.execute_input": "2024-03-28T12:06:35.430226Z",
     "iopub.status.busy": "2024-03-28T12:06:35.429680Z",
     "iopub.status.idle": "2024-03-28T12:06:35.699290Z",
     "shell.execute_reply": "2024-03-28T12:06:35.698170Z"
    },
    "jupyter": {
     "outputs_hidden": false
    },
    "papermill": {
     "duration": 0.279192,
     "end_time": "2024-03-28T12:06:35.701779",
     "exception": false,
     "start_time": "2024-03-28T12:06:35.422587",
     "status": "completed"
    },
    "tags": []
   },
   "outputs": [],
   "source": [
    "data = pd.read_csv(\"/kaggle/input/singapore-airlines-reviews/singapore_airlines_reviews.csv\")"
   ]
  },
  {
   "cell_type": "code",
   "execution_count": 3,
   "id": "ad401914",
   "metadata": {
    "ExecuteTime": {
     "end_time": "2024-03-28T12:02:19.585806300Z",
     "start_time": "2024-03-28T12:02:19.549484500Z"
    },
    "collapsed": false,
    "execution": {
     "iopub.execute_input": "2024-03-28T12:06:35.715438Z",
     "iopub.status.busy": "2024-03-28T12:06:35.714774Z",
     "iopub.status.idle": "2024-03-28T12:06:35.733391Z",
     "shell.execute_reply": "2024-03-28T12:06:35.732289Z"
    },
    "jupyter": {
     "outputs_hidden": false
    },
    "papermill": {
     "duration": 0.028042,
     "end_time": "2024-03-28T12:06:35.735646",
     "exception": false,
     "start_time": "2024-03-28T12:06:35.707604",
     "status": "completed"
    },
    "tags": []
   },
   "outputs": [
    {
     "data": {
      "text/html": [
       "<div>\n",
       "<style scoped>\n",
       "    .dataframe tbody tr th:only-of-type {\n",
       "        vertical-align: middle;\n",
       "    }\n",
       "\n",
       "    .dataframe tbody tr th {\n",
       "        vertical-align: top;\n",
       "    }\n",
       "\n",
       "    .dataframe thead th {\n",
       "        text-align: right;\n",
       "    }\n",
       "</style>\n",
       "<table border=\"1\" class=\"dataframe\">\n",
       "  <thead>\n",
       "    <tr style=\"text-align: right;\">\n",
       "      <th></th>\n",
       "      <th>published_date</th>\n",
       "      <th>published_platform</th>\n",
       "      <th>rating</th>\n",
       "      <th>type</th>\n",
       "      <th>text</th>\n",
       "      <th>title</th>\n",
       "      <th>helpful_votes</th>\n",
       "    </tr>\n",
       "  </thead>\n",
       "  <tbody>\n",
       "    <tr>\n",
       "      <th>0</th>\n",
       "      <td>2024-03-12T14:41:14-04:00</td>\n",
       "      <td>Desktop</td>\n",
       "      <td>3</td>\n",
       "      <td>review</td>\n",
       "      <td>We used this airline to go from Singapore to L...</td>\n",
       "      <td>Ok</td>\n",
       "      <td>0</td>\n",
       "    </tr>\n",
       "    <tr>\n",
       "      <th>1</th>\n",
       "      <td>2024-03-11T19:39:13-04:00</td>\n",
       "      <td>Desktop</td>\n",
       "      <td>5</td>\n",
       "      <td>review</td>\n",
       "      <td>The service on Singapore Airlines Suites Class...</td>\n",
       "      <td>The service in Suites Class makes one feel lik...</td>\n",
       "      <td>0</td>\n",
       "    </tr>\n",
       "    <tr>\n",
       "      <th>2</th>\n",
       "      <td>2024-03-11T12:20:23-04:00</td>\n",
       "      <td>Desktop</td>\n",
       "      <td>1</td>\n",
       "      <td>review</td>\n",
       "      <td>Booked, paid and received email confirmation f...</td>\n",
       "      <td>Don’t give them your money</td>\n",
       "      <td>0</td>\n",
       "    </tr>\n",
       "    <tr>\n",
       "      <th>3</th>\n",
       "      <td>2024-03-11T07:12:27-04:00</td>\n",
       "      <td>Desktop</td>\n",
       "      <td>5</td>\n",
       "      <td>review</td>\n",
       "      <td>Best airline in the world, seats, food, servic...</td>\n",
       "      <td>Best Airline in the World</td>\n",
       "      <td>0</td>\n",
       "    </tr>\n",
       "    <tr>\n",
       "      <th>4</th>\n",
       "      <td>2024-03-10T05:34:18-04:00</td>\n",
       "      <td>Desktop</td>\n",
       "      <td>2</td>\n",
       "      <td>review</td>\n",
       "      <td>Premium Economy Seating on Singapore Airlines ...</td>\n",
       "      <td>Premium Economy Seating on Singapore Airlines ...</td>\n",
       "      <td>0</td>\n",
       "    </tr>\n",
       "  </tbody>\n",
       "</table>\n",
       "</div>"
      ],
      "text/plain": [
       "              published_date published_platform  rating    type  \\\n",
       "0  2024-03-12T14:41:14-04:00            Desktop       3  review   \n",
       "1  2024-03-11T19:39:13-04:00            Desktop       5  review   \n",
       "2  2024-03-11T12:20:23-04:00            Desktop       1  review   \n",
       "3  2024-03-11T07:12:27-04:00            Desktop       5  review   \n",
       "4  2024-03-10T05:34:18-04:00            Desktop       2  review   \n",
       "\n",
       "                                                text  \\\n",
       "0  We used this airline to go from Singapore to L...   \n",
       "1  The service on Singapore Airlines Suites Class...   \n",
       "2  Booked, paid and received email confirmation f...   \n",
       "3  Best airline in the world, seats, food, servic...   \n",
       "4  Premium Economy Seating on Singapore Airlines ...   \n",
       "\n",
       "                                               title  helpful_votes  \n",
       "0                                                 Ok              0  \n",
       "1  The service in Suites Class makes one feel lik...              0  \n",
       "2                         Don’t give them your money              0  \n",
       "3                          Best Airline in the World              0  \n",
       "4  Premium Economy Seating on Singapore Airlines ...              0  "
      ]
     },
     "execution_count": 3,
     "metadata": {},
     "output_type": "execute_result"
    }
   ],
   "source": [
    "data.head()"
   ]
  },
  {
   "cell_type": "raw",
   "id": "2c08990b",
   "metadata": {
    "papermill": {
     "duration": 0.005868,
     "end_time": "2024-03-28T12:06:35.747677",
     "exception": false,
     "start_time": "2024-03-28T12:06:35.741809",
     "status": "completed"
    },
    "tags": []
   },
   "source": [
    "Let's convert this column to datetime format"
   ]
  },
  {
   "cell_type": "code",
   "execution_count": 4,
   "id": "3ac9b13f",
   "metadata": {
    "ExecuteTime": {
     "end_time": "2024-03-28T12:02:19.585806300Z",
     "start_time": "2024-03-28T12:02:19.558555Z"
    },
    "collapsed": false,
    "execution": {
     "iopub.execute_input": "2024-03-28T12:06:35.762134Z",
     "iopub.status.busy": "2024-03-28T12:06:35.761397Z",
     "iopub.status.idle": "2024-03-28T12:06:35.772832Z",
     "shell.execute_reply": "2024-03-28T12:06:35.771995Z"
    },
    "jupyter": {
     "outputs_hidden": false
    },
    "papermill": {
     "duration": 0.021481,
     "end_time": "2024-03-28T12:06:35.775182",
     "exception": false,
     "start_time": "2024-03-28T12:06:35.753701",
     "status": "completed"
    },
    "tags": []
   },
   "outputs": [],
   "source": [
    "data = data[['text','rating']]"
   ]
  },
  {
   "cell_type": "code",
   "execution_count": 5,
   "id": "fc68fbfc",
   "metadata": {
    "ExecuteTime": {
     "end_time": "2024-03-28T12:02:19.586805900Z",
     "start_time": "2024-03-28T12:02:19.564427600Z"
    },
    "collapsed": false,
    "execution": {
     "iopub.execute_input": "2024-03-28T12:06:35.790015Z",
     "iopub.status.busy": "2024-03-28T12:06:35.789290Z",
     "iopub.status.idle": "2024-03-28T12:06:35.800691Z",
     "shell.execute_reply": "2024-03-28T12:06:35.799575Z"
    },
    "jupyter": {
     "outputs_hidden": false
    },
    "papermill": {
     "duration": 0.021344,
     "end_time": "2024-03-28T12:06:35.802748",
     "exception": false,
     "start_time": "2024-03-28T12:06:35.781404",
     "status": "completed"
    },
    "tags": []
   },
   "outputs": [
    {
     "data": {
      "text/html": [
       "<div>\n",
       "<style scoped>\n",
       "    .dataframe tbody tr th:only-of-type {\n",
       "        vertical-align: middle;\n",
       "    }\n",
       "\n",
       "    .dataframe tbody tr th {\n",
       "        vertical-align: top;\n",
       "    }\n",
       "\n",
       "    .dataframe thead th {\n",
       "        text-align: right;\n",
       "    }\n",
       "</style>\n",
       "<table border=\"1\" class=\"dataframe\">\n",
       "  <thead>\n",
       "    <tr style=\"text-align: right;\">\n",
       "      <th></th>\n",
       "      <th>text</th>\n",
       "      <th>rating</th>\n",
       "    </tr>\n",
       "  </thead>\n",
       "  <tbody>\n",
       "    <tr>\n",
       "      <th>0</th>\n",
       "      <td>We used this airline to go from Singapore to L...</td>\n",
       "      <td>3</td>\n",
       "    </tr>\n",
       "    <tr>\n",
       "      <th>1</th>\n",
       "      <td>The service on Singapore Airlines Suites Class...</td>\n",
       "      <td>5</td>\n",
       "    </tr>\n",
       "    <tr>\n",
       "      <th>2</th>\n",
       "      <td>Booked, paid and received email confirmation f...</td>\n",
       "      <td>1</td>\n",
       "    </tr>\n",
       "    <tr>\n",
       "      <th>3</th>\n",
       "      <td>Best airline in the world, seats, food, servic...</td>\n",
       "      <td>5</td>\n",
       "    </tr>\n",
       "    <tr>\n",
       "      <th>4</th>\n",
       "      <td>Premium Economy Seating on Singapore Airlines ...</td>\n",
       "      <td>2</td>\n",
       "    </tr>\n",
       "    <tr>\n",
       "      <th>...</th>\n",
       "      <td>...</td>\n",
       "      <td>...</td>\n",
       "    </tr>\n",
       "    <tr>\n",
       "      <th>9995</th>\n",
       "      <td>First part done with Singapore Airlines - acce...</td>\n",
       "      <td>5</td>\n",
       "    </tr>\n",
       "    <tr>\n",
       "      <th>9996</th>\n",
       "      <td>And again a great Flight with Singapore Air. G...</td>\n",
       "      <td>5</td>\n",
       "    </tr>\n",
       "    <tr>\n",
       "      <th>9997</th>\n",
       "      <td>We flew business class from Frankfurt, via Sin...</td>\n",
       "      <td>5</td>\n",
       "    </tr>\n",
       "    <tr>\n",
       "      <th>9998</th>\n",
       "      <td>As always, the A380 aircraft was spotlessly pr...</td>\n",
       "      <td>4</td>\n",
       "    </tr>\n",
       "    <tr>\n",
       "      <th>9999</th>\n",
       "      <td>As always, Singapore Airlines has done it agai...</td>\n",
       "      <td>4</td>\n",
       "    </tr>\n",
       "  </tbody>\n",
       "</table>\n",
       "<p>10000 rows × 2 columns</p>\n",
       "</div>"
      ],
      "text/plain": [
       "                                                   text  rating\n",
       "0     We used this airline to go from Singapore to L...       3\n",
       "1     The service on Singapore Airlines Suites Class...       5\n",
       "2     Booked, paid and received email confirmation f...       1\n",
       "3     Best airline in the world, seats, food, servic...       5\n",
       "4     Premium Economy Seating on Singapore Airlines ...       2\n",
       "...                                                 ...     ...\n",
       "9995  First part done with Singapore Airlines - acce...       5\n",
       "9996  And again a great Flight with Singapore Air. G...       5\n",
       "9997  We flew business class from Frankfurt, via Sin...       5\n",
       "9998  As always, the A380 aircraft was spotlessly pr...       4\n",
       "9999  As always, Singapore Airlines has done it agai...       4\n",
       "\n",
       "[10000 rows x 2 columns]"
      ]
     },
     "execution_count": 5,
     "metadata": {},
     "output_type": "execute_result"
    }
   ],
   "source": [
    "data"
   ]
  },
  {
   "cell_type": "raw",
   "id": "324d02dc",
   "metadata": {
    "papermill": {
     "duration": 0.006174,
     "end_time": "2024-03-28T12:06:35.815327",
     "exception": false,
     "start_time": "2024-03-28T12:06:35.809153",
     "status": "completed"
    },
    "tags": []
   },
   "source": [
    "There is no nan value:"
   ]
  },
  {
   "cell_type": "code",
   "execution_count": 6,
   "id": "b221f7e9",
   "metadata": {
    "ExecuteTime": {
     "end_time": "2024-03-28T12:02:19.587808Z",
     "start_time": "2024-03-28T12:02:19.578433500Z"
    },
    "collapsed": false,
    "execution": {
     "iopub.execute_input": "2024-03-28T12:06:35.831243Z",
     "iopub.status.busy": "2024-03-28T12:06:35.830877Z",
     "iopub.status.idle": "2024-03-28T12:06:35.841614Z",
     "shell.execute_reply": "2024-03-28T12:06:35.840709Z"
    },
    "jupyter": {
     "outputs_hidden": false
    },
    "papermill": {
     "duration": 0.021438,
     "end_time": "2024-03-28T12:06:35.843650",
     "exception": false,
     "start_time": "2024-03-28T12:06:35.822212",
     "status": "completed"
    },
    "tags": []
   },
   "outputs": [
    {
     "data": {
      "text/plain": [
       "text      0\n",
       "rating    0\n",
       "dtype: int64"
      ]
     },
     "execution_count": 6,
     "metadata": {},
     "output_type": "execute_result"
    }
   ],
   "source": [
    "data.isna().sum()"
   ]
  },
  {
   "cell_type": "code",
   "execution_count": 7,
   "id": "6fb01b67",
   "metadata": {
    "ExecuteTime": {
     "end_time": "2024-03-28T12:02:19.600134900Z",
     "start_time": "2024-03-28T12:02:19.584802300Z"
    },
    "collapsed": false,
    "execution": {
     "iopub.execute_input": "2024-03-28T12:06:35.858978Z",
     "iopub.status.busy": "2024-03-28T12:06:35.858244Z",
     "iopub.status.idle": "2024-03-28T12:06:35.867423Z",
     "shell.execute_reply": "2024-03-28T12:06:35.866434Z"
    },
    "jupyter": {
     "outputs_hidden": false
    },
    "papermill": {
     "duration": 0.019082,
     "end_time": "2024-03-28T12:06:35.869352",
     "exception": false,
     "start_time": "2024-03-28T12:06:35.850270",
     "status": "completed"
    },
    "tags": []
   },
   "outputs": [
    {
     "data": {
      "text/plain": [
       "0     We used this airline to go from Singapore to L...\n",
       "1     The service on Singapore Airlines Suites Class...\n",
       "2     Booked, paid and received email confirmation f...\n",
       "3     Best airline in the world, seats, food, servic...\n",
       "4     Premium Economy Seating on Singapore Airlines ...\n",
       "5     We booked our flights a full 9 months in advan...\n",
       "6     This was a fascinating experience. As I sat in...\n",
       "7     Very bad expeirence for flight check in at bai...\n",
       "8     Respected Faculty, I am Bincy, writing this  t...\n",
       "9     I would rate Singapore airlines the worse I ha...\n",
       "10    Singapore Airlines (SQ), may be one of the lar...\n",
       "11    Yesterday ( 6 March ) my flight was canceled b...\n",
       "12    What has happened to Singapore Airlines? I use...\n",
       "13    I am disabled and had a VERY BAD experience wi...\n",
       "14    Well I have flown to Australia quite a few tim...\n",
       "Name: text, dtype: object"
      ]
     },
     "execution_count": 7,
     "metadata": {},
     "output_type": "execute_result"
    }
   ],
   "source": [
    "data['text'].head(15)"
   ]
  },
  {
   "cell_type": "code",
   "execution_count": 8,
   "id": "576c459e",
   "metadata": {
    "ExecuteTime": {
     "end_time": "2024-03-28T12:02:19.601134400Z",
     "start_time": "2024-03-28T12:02:19.591829700Z"
    },
    "collapsed": false,
    "execution": {
     "iopub.execute_input": "2024-03-28T12:06:35.885530Z",
     "iopub.status.busy": "2024-03-28T12:06:35.884362Z",
     "iopub.status.idle": "2024-03-28T12:06:35.896878Z",
     "shell.execute_reply": "2024-03-28T12:06:35.895993Z"
    },
    "jupyter": {
     "outputs_hidden": false
    },
    "papermill": {
     "duration": 0.022835,
     "end_time": "2024-03-28T12:06:35.899118",
     "exception": false,
     "start_time": "2024-03-28T12:06:35.876283",
     "status": "completed"
    },
    "tags": []
   },
   "outputs": [],
   "source": [
    "stop_words = stopwords.words(\"english\")\n",
    "stem = PorterStemmer()\n",
    "def text_cleaner(text:str):\n",
    "    clean_txt = \"\"\n",
    "    text = text.lower()\n",
    "    tokens = word_tokenize(text)\n",
    "    for tkn in tokens:\n",
    "        if (tkn not in stop_words) and (tkn not in punctuation):\n",
    "            stm_tkn = stem.stem(tkn)\n",
    "            clean_txt += (stm_tkn + \" \")\n",
    "    clean_txt = clean_txt[:-1]\n",
    "    return clean_txt"
   ]
  },
  {
   "cell_type": "code",
   "execution_count": 9,
   "id": "e74c541f",
   "metadata": {
    "ExecuteTime": {
     "end_time": "2024-03-28T12:02:34.820494Z",
     "start_time": "2024-03-28T12:02:19.602135300Z"
    },
    "collapsed": false,
    "execution": {
     "iopub.execute_input": "2024-03-28T12:06:35.915187Z",
     "iopub.status.busy": "2024-03-28T12:06:35.914330Z",
     "iopub.status.idle": "2024-03-28T12:07:01.421664Z",
     "shell.execute_reply": "2024-03-28T12:07:01.420771Z"
    },
    "jupyter": {
     "outputs_hidden": false
    },
    "papermill": {
     "duration": 25.517812,
     "end_time": "2024-03-28T12:07:01.424094",
     "exception": false,
     "start_time": "2024-03-28T12:06:35.906282",
     "status": "completed"
    },
    "tags": []
   },
   "outputs": [],
   "source": [
    "data['text'] = data['text'].apply(text_cleaner)"
   ]
  },
  {
   "cell_type": "code",
   "execution_count": 10,
   "id": "891f157a",
   "metadata": {
    "ExecuteTime": {
     "end_time": "2024-03-28T12:02:34.831044900Z",
     "start_time": "2024-03-28T12:02:34.824004700Z"
    },
    "collapsed": false,
    "execution": {
     "iopub.execute_input": "2024-03-28T12:07:01.440509Z",
     "iopub.status.busy": "2024-03-28T12:07:01.440116Z",
     "iopub.status.idle": "2024-03-28T12:07:01.447766Z",
     "shell.execute_reply": "2024-03-28T12:07:01.446718Z"
    },
    "jupyter": {
     "outputs_hidden": false
    },
    "papermill": {
     "duration": 0.019876,
     "end_time": "2024-03-28T12:07:01.451316",
     "exception": false,
     "start_time": "2024-03-28T12:07:01.431440",
     "status": "completed"
    },
    "tags": []
   },
   "outputs": [
    {
     "data": {
      "text/plain": [
       "0    use airlin go singapor london heathrow issu ti...\n",
       "1    servic singapor airlin suit class noth excel c...\n",
       "2    book paid receiv email confirm extra legroom s...\n",
       "3    best airlin world seat food servic brilliant c...\n",
       "4    premium economi seat singapor airlin narrow se...\n",
       "Name: text, dtype: object"
      ]
     },
     "execution_count": 10,
     "metadata": {},
     "output_type": "execute_result"
    }
   ],
   "source": [
    "data['text'].head()"
   ]
  },
  {
   "cell_type": "code",
   "execution_count": 11,
   "id": "b7c9039f",
   "metadata": {
    "ExecuteTime": {
     "end_time": "2024-03-28T12:02:35.173245900Z",
     "start_time": "2024-03-28T12:02:34.831044900Z"
    },
    "collapsed": false,
    "execution": {
     "iopub.execute_input": "2024-03-28T12:07:01.467597Z",
     "iopub.status.busy": "2024-03-28T12:07:01.467175Z",
     "iopub.status.idle": "2024-03-28T12:07:01.984924Z",
     "shell.execute_reply": "2024-03-28T12:07:01.983864Z"
    },
    "jupyter": {
     "outputs_hidden": false
    },
    "papermill": {
     "duration": 0.528663,
     "end_time": "2024-03-28T12:07:01.987381",
     "exception": false,
     "start_time": "2024-03-28T12:07:01.458718",
     "status": "completed"
    },
    "tags": []
   },
   "outputs": [],
   "source": [
    "tf_idf_vect = TfidfVectorizer(min_df=2)\n",
    "X = tf_idf_vect.fit_transform(data['text'])"
   ]
  },
  {
   "cell_type": "code",
   "execution_count": 12,
   "id": "337ce475",
   "metadata": {
    "ExecuteTime": {
     "end_time": "2024-03-28T12:02:35.189677Z",
     "start_time": "2024-03-28T12:02:35.180955Z"
    },
    "collapsed": false,
    "execution": {
     "iopub.execute_input": "2024-03-28T12:07:02.003980Z",
     "iopub.status.busy": "2024-03-28T12:07:02.003411Z",
     "iopub.status.idle": "2024-03-28T12:07:02.010473Z",
     "shell.execute_reply": "2024-03-28T12:07:02.009344Z"
    },
    "jupyter": {
     "outputs_hidden": false
    },
    "papermill": {
     "duration": 0.017783,
     "end_time": "2024-03-28T12:07:02.012732",
     "exception": false,
     "start_time": "2024-03-28T12:07:01.994949",
     "status": "completed"
    },
    "tags": []
   },
   "outputs": [
    {
     "data": {
      "text/plain": [
       "(10000, 7496)"
      ]
     },
     "execution_count": 12,
     "metadata": {},
     "output_type": "execute_result"
    }
   ],
   "source": [
    "X.shape"
   ]
  },
  {
   "cell_type": "code",
   "execution_count": 13,
   "id": "7da9140f",
   "metadata": {
    "ExecuteTime": {
     "end_time": "2024-03-28T12:02:35.198229500Z",
     "start_time": "2024-03-28T12:02:35.183793100Z"
    },
    "collapsed": false,
    "execution": {
     "iopub.execute_input": "2024-03-28T12:07:02.030287Z",
     "iopub.status.busy": "2024-03-28T12:07:02.029876Z",
     "iopub.status.idle": "2024-03-28T12:07:02.035142Z",
     "shell.execute_reply": "2024-03-28T12:07:02.033780Z"
    },
    "jupyter": {
     "outputs_hidden": false
    },
    "papermill": {
     "duration": 0.016944,
     "end_time": "2024-03-28T12:07:02.037681",
     "exception": false,
     "start_time": "2024-03-28T12:07:02.020737",
     "status": "completed"
    },
    "tags": []
   },
   "outputs": [],
   "source": [
    "y = data['rating']"
   ]
  },
  {
   "cell_type": "code",
   "execution_count": 14,
   "id": "a54e0f93",
   "metadata": {
    "ExecuteTime": {
     "end_time": "2024-03-28T12:02:35.228130800Z",
     "start_time": "2024-03-28T12:02:35.196218900Z"
    },
    "collapsed": false,
    "execution": {
     "iopub.execute_input": "2024-03-28T12:07:02.055278Z",
     "iopub.status.busy": "2024-03-28T12:07:02.054408Z",
     "iopub.status.idle": "2024-03-28T12:07:02.065589Z",
     "shell.execute_reply": "2024-03-28T12:07:02.064407Z"
    },
    "jupyter": {
     "outputs_hidden": false
    },
    "papermill": {
     "duration": 0.023097,
     "end_time": "2024-03-28T12:07:02.068329",
     "exception": false,
     "start_time": "2024-03-28T12:07:02.045232",
     "status": "completed"
    },
    "tags": []
   },
   "outputs": [],
   "source": [
    "X_train, X_test, y_train, y_test = train_test_split(X,y,test_size=0.33)"
   ]
  },
  {
   "cell_type": "code",
   "execution_count": 15,
   "id": "877b940b",
   "metadata": {
    "ExecuteTime": {
     "end_time": "2024-03-28T12:02:35.228130800Z",
     "start_time": "2024-03-28T12:02:35.203504900Z"
    },
    "collapsed": false,
    "execution": {
     "iopub.execute_input": "2024-03-28T12:07:02.084807Z",
     "iopub.status.busy": "2024-03-28T12:07:02.084390Z",
     "iopub.status.idle": "2024-03-28T12:07:02.099502Z",
     "shell.execute_reply": "2024-03-28T12:07:02.098436Z"
    },
    "jupyter": {
     "outputs_hidden": false
    },
    "papermill": {
     "duration": 0.026158,
     "end_time": "2024-03-28T12:07:02.101908",
     "exception": false,
     "start_time": "2024-03-28T12:07:02.075750",
     "status": "completed"
    },
    "tags": []
   },
   "outputs": [
    {
     "data": {
      "text/html": [
       "<style>#sk-container-id-1 {color: black;background-color: white;}#sk-container-id-1 pre{padding: 0;}#sk-container-id-1 div.sk-toggleable {background-color: white;}#sk-container-id-1 label.sk-toggleable__label {cursor: pointer;display: block;width: 100%;margin-bottom: 0;padding: 0.3em;box-sizing: border-box;text-align: center;}#sk-container-id-1 label.sk-toggleable__label-arrow:before {content: \"▸\";float: left;margin-right: 0.25em;color: #696969;}#sk-container-id-1 label.sk-toggleable__label-arrow:hover:before {color: black;}#sk-container-id-1 div.sk-estimator:hover label.sk-toggleable__label-arrow:before {color: black;}#sk-container-id-1 div.sk-toggleable__content {max-height: 0;max-width: 0;overflow: hidden;text-align: left;background-color: #f0f8ff;}#sk-container-id-1 div.sk-toggleable__content pre {margin: 0.2em;color: black;border-radius: 0.25em;background-color: #f0f8ff;}#sk-container-id-1 input.sk-toggleable__control:checked~div.sk-toggleable__content {max-height: 200px;max-width: 100%;overflow: auto;}#sk-container-id-1 input.sk-toggleable__control:checked~label.sk-toggleable__label-arrow:before {content: \"▾\";}#sk-container-id-1 div.sk-estimator input.sk-toggleable__control:checked~label.sk-toggleable__label {background-color: #d4ebff;}#sk-container-id-1 div.sk-label input.sk-toggleable__control:checked~label.sk-toggleable__label {background-color: #d4ebff;}#sk-container-id-1 input.sk-hidden--visually {border: 0;clip: rect(1px 1px 1px 1px);clip: rect(1px, 1px, 1px, 1px);height: 1px;margin: -1px;overflow: hidden;padding: 0;position: absolute;width: 1px;}#sk-container-id-1 div.sk-estimator {font-family: monospace;background-color: #f0f8ff;border: 1px dotted black;border-radius: 0.25em;box-sizing: border-box;margin-bottom: 0.5em;}#sk-container-id-1 div.sk-estimator:hover {background-color: #d4ebff;}#sk-container-id-1 div.sk-parallel-item::after {content: \"\";width: 100%;border-bottom: 1px solid gray;flex-grow: 1;}#sk-container-id-1 div.sk-label:hover label.sk-toggleable__label {background-color: #d4ebff;}#sk-container-id-1 div.sk-serial::before {content: \"\";position: absolute;border-left: 1px solid gray;box-sizing: border-box;top: 0;bottom: 0;left: 50%;z-index: 0;}#sk-container-id-1 div.sk-serial {display: flex;flex-direction: column;align-items: center;background-color: white;padding-right: 0.2em;padding-left: 0.2em;position: relative;}#sk-container-id-1 div.sk-item {position: relative;z-index: 1;}#sk-container-id-1 div.sk-parallel {display: flex;align-items: stretch;justify-content: center;background-color: white;position: relative;}#sk-container-id-1 div.sk-item::before, #sk-container-id-1 div.sk-parallel-item::before {content: \"\";position: absolute;border-left: 1px solid gray;box-sizing: border-box;top: 0;bottom: 0;left: 50%;z-index: -1;}#sk-container-id-1 div.sk-parallel-item {display: flex;flex-direction: column;z-index: 1;position: relative;background-color: white;}#sk-container-id-1 div.sk-parallel-item:first-child::after {align-self: flex-end;width: 50%;}#sk-container-id-1 div.sk-parallel-item:last-child::after {align-self: flex-start;width: 50%;}#sk-container-id-1 div.sk-parallel-item:only-child::after {width: 0;}#sk-container-id-1 div.sk-dashed-wrapped {border: 1px dashed gray;margin: 0 0.4em 0.5em 0.4em;box-sizing: border-box;padding-bottom: 0.4em;background-color: white;}#sk-container-id-1 div.sk-label label {font-family: monospace;font-weight: bold;display: inline-block;line-height: 1.2em;}#sk-container-id-1 div.sk-label-container {text-align: center;}#sk-container-id-1 div.sk-container {/* jupyter's `normalize.less` sets `[hidden] { display: none; }` but bootstrap.min.css set `[hidden] { display: none !important; }` so we also need the `!important` here to be able to override the default hidden behavior on the sphinx rendered scikit-learn.org. See: https://github.com/scikit-learn/scikit-learn/issues/21755 */display: inline-block !important;position: relative;}#sk-container-id-1 div.sk-text-repr-fallback {display: none;}</style><div id=\"sk-container-id-1\" class=\"sk-top-container\"><div class=\"sk-text-repr-fallback\"><pre>KNeighborsClassifier()</pre><b>In a Jupyter environment, please rerun this cell to show the HTML representation or trust the notebook. <br />On GitHub, the HTML representation is unable to render, please try loading this page with nbviewer.org.</b></div><div class=\"sk-container\" hidden><div class=\"sk-item\"><div class=\"sk-estimator sk-toggleable\"><input class=\"sk-toggleable__control sk-hidden--visually\" id=\"sk-estimator-id-1\" type=\"checkbox\" checked><label for=\"sk-estimator-id-1\" class=\"sk-toggleable__label sk-toggleable__label-arrow\">KNeighborsClassifier</label><div class=\"sk-toggleable__content\"><pre>KNeighborsClassifier()</pre></div></div></div></div></div>"
      ],
      "text/plain": [
       "KNeighborsClassifier()"
      ]
     },
     "execution_count": 15,
     "metadata": {},
     "output_type": "execute_result"
    }
   ],
   "source": [
    "knn = KNeighborsClassifier()\n",
    "knn.fit(X_train,y_train)"
   ]
  },
  {
   "cell_type": "code",
   "execution_count": 16,
   "id": "03e3fa75",
   "metadata": {
    "ExecuteTime": {
     "end_time": "2024-03-28T12:02:46.585881500Z",
     "start_time": "2024-03-28T12:02:35.212623700Z"
    },
    "collapsed": false,
    "execution": {
     "iopub.execute_input": "2024-03-28T12:07:02.119684Z",
     "iopub.status.busy": "2024-03-28T12:07:02.119311Z",
     "iopub.status.idle": "2024-03-28T12:07:42.647450Z",
     "shell.execute_reply": "2024-03-28T12:07:42.646415Z"
    },
    "jupyter": {
     "outputs_hidden": false
    },
    "papermill": {
     "duration": 40.546281,
     "end_time": "2024-03-28T12:07:42.656558",
     "exception": false,
     "start_time": "2024-03-28T12:07:02.110277",
     "status": "completed"
    },
    "tags": []
   },
   "outputs": [
    {
     "data": {
      "text/plain": [
       "0.7116417910447761"
      ]
     },
     "execution_count": 16,
     "metadata": {},
     "output_type": "execute_result"
    }
   ],
   "source": [
    "knn.score(X_train,y_train)"
   ]
  },
  {
   "cell_type": "code",
   "execution_count": 17,
   "id": "d15903e9",
   "metadata": {
    "ExecuteTime": {
     "end_time": "2024-03-28T12:02:52.687434400Z",
     "start_time": "2024-03-28T12:02:46.585881500Z"
    },
    "collapsed": false,
    "execution": {
     "iopub.execute_input": "2024-03-28T12:07:42.672965Z",
     "iopub.status.busy": "2024-03-28T12:07:42.672560Z",
     "iopub.status.idle": "2024-03-28T12:08:03.309120Z",
     "shell.execute_reply": "2024-03-28T12:08:03.308065Z"
    },
    "jupyter": {
     "outputs_hidden": false
    },
    "papermill": {
     "duration": 20.647591,
     "end_time": "2024-03-28T12:08:03.311617",
     "exception": false,
     "start_time": "2024-03-28T12:07:42.664026",
     "status": "completed"
    },
    "tags": []
   },
   "outputs": [
    {
     "data": {
      "text/plain": [
       "0.5966666666666667"
      ]
     },
     "execution_count": 17,
     "metadata": {},
     "output_type": "execute_result"
    }
   ],
   "source": [
    "knn.score(X_test , y_test)"
   ]
  },
  {
   "cell_type": "code",
   "execution_count": 18,
   "id": "10fcaa14",
   "metadata": {
    "ExecuteTime": {
     "end_time": "2024-03-28T12:03:10.025792700Z",
     "start_time": "2024-03-28T12:02:52.687434400Z"
    },
    "collapsed": false,
    "execution": {
     "iopub.execute_input": "2024-03-28T12:08:03.329191Z",
     "iopub.status.busy": "2024-03-28T12:08:03.328821Z",
     "iopub.status.idle": "2024-03-28T12:08:28.891094Z",
     "shell.execute_reply": "2024-03-28T12:08:28.890307Z"
    },
    "jupyter": {
     "outputs_hidden": false
    },
    "papermill": {
     "duration": 25.573297,
     "end_time": "2024-03-28T12:08:28.893129",
     "exception": false,
     "start_time": "2024-03-28T12:08:03.319832",
     "status": "completed"
    },
    "tags": []
   },
   "outputs": [
    {
     "data": {
      "text/html": [
       "<style>#sk-container-id-2 {color: black;background-color: white;}#sk-container-id-2 pre{padding: 0;}#sk-container-id-2 div.sk-toggleable {background-color: white;}#sk-container-id-2 label.sk-toggleable__label {cursor: pointer;display: block;width: 100%;margin-bottom: 0;padding: 0.3em;box-sizing: border-box;text-align: center;}#sk-container-id-2 label.sk-toggleable__label-arrow:before {content: \"▸\";float: left;margin-right: 0.25em;color: #696969;}#sk-container-id-2 label.sk-toggleable__label-arrow:hover:before {color: black;}#sk-container-id-2 div.sk-estimator:hover label.sk-toggleable__label-arrow:before {color: black;}#sk-container-id-2 div.sk-toggleable__content {max-height: 0;max-width: 0;overflow: hidden;text-align: left;background-color: #f0f8ff;}#sk-container-id-2 div.sk-toggleable__content pre {margin: 0.2em;color: black;border-radius: 0.25em;background-color: #f0f8ff;}#sk-container-id-2 input.sk-toggleable__control:checked~div.sk-toggleable__content {max-height: 200px;max-width: 100%;overflow: auto;}#sk-container-id-2 input.sk-toggleable__control:checked~label.sk-toggleable__label-arrow:before {content: \"▾\";}#sk-container-id-2 div.sk-estimator input.sk-toggleable__control:checked~label.sk-toggleable__label {background-color: #d4ebff;}#sk-container-id-2 div.sk-label input.sk-toggleable__control:checked~label.sk-toggleable__label {background-color: #d4ebff;}#sk-container-id-2 input.sk-hidden--visually {border: 0;clip: rect(1px 1px 1px 1px);clip: rect(1px, 1px, 1px, 1px);height: 1px;margin: -1px;overflow: hidden;padding: 0;position: absolute;width: 1px;}#sk-container-id-2 div.sk-estimator {font-family: monospace;background-color: #f0f8ff;border: 1px dotted black;border-radius: 0.25em;box-sizing: border-box;margin-bottom: 0.5em;}#sk-container-id-2 div.sk-estimator:hover {background-color: #d4ebff;}#sk-container-id-2 div.sk-parallel-item::after {content: \"\";width: 100%;border-bottom: 1px solid gray;flex-grow: 1;}#sk-container-id-2 div.sk-label:hover label.sk-toggleable__label {background-color: #d4ebff;}#sk-container-id-2 div.sk-serial::before {content: \"\";position: absolute;border-left: 1px solid gray;box-sizing: border-box;top: 0;bottom: 0;left: 50%;z-index: 0;}#sk-container-id-2 div.sk-serial {display: flex;flex-direction: column;align-items: center;background-color: white;padding-right: 0.2em;padding-left: 0.2em;position: relative;}#sk-container-id-2 div.sk-item {position: relative;z-index: 1;}#sk-container-id-2 div.sk-parallel {display: flex;align-items: stretch;justify-content: center;background-color: white;position: relative;}#sk-container-id-2 div.sk-item::before, #sk-container-id-2 div.sk-parallel-item::before {content: \"\";position: absolute;border-left: 1px solid gray;box-sizing: border-box;top: 0;bottom: 0;left: 50%;z-index: -1;}#sk-container-id-2 div.sk-parallel-item {display: flex;flex-direction: column;z-index: 1;position: relative;background-color: white;}#sk-container-id-2 div.sk-parallel-item:first-child::after {align-self: flex-end;width: 50%;}#sk-container-id-2 div.sk-parallel-item:last-child::after {align-self: flex-start;width: 50%;}#sk-container-id-2 div.sk-parallel-item:only-child::after {width: 0;}#sk-container-id-2 div.sk-dashed-wrapped {border: 1px dashed gray;margin: 0 0.4em 0.5em 0.4em;box-sizing: border-box;padding-bottom: 0.4em;background-color: white;}#sk-container-id-2 div.sk-label label {font-family: monospace;font-weight: bold;display: inline-block;line-height: 1.2em;}#sk-container-id-2 div.sk-label-container {text-align: center;}#sk-container-id-2 div.sk-container {/* jupyter's `normalize.less` sets `[hidden] { display: none; }` but bootstrap.min.css set `[hidden] { display: none !important; }` so we also need the `!important` here to be able to override the default hidden behavior on the sphinx rendered scikit-learn.org. See: https://github.com/scikit-learn/scikit-learn/issues/21755 */display: inline-block !important;position: relative;}#sk-container-id-2 div.sk-text-repr-fallback {display: none;}</style><div id=\"sk-container-id-2\" class=\"sk-top-container\"><div class=\"sk-text-repr-fallback\"><pre>SVC(C=0.25)</pre><b>In a Jupyter environment, please rerun this cell to show the HTML representation or trust the notebook. <br />On GitHub, the HTML representation is unable to render, please try loading this page with nbviewer.org.</b></div><div class=\"sk-container\" hidden><div class=\"sk-item\"><div class=\"sk-estimator sk-toggleable\"><input class=\"sk-toggleable__control sk-hidden--visually\" id=\"sk-estimator-id-2\" type=\"checkbox\" checked><label for=\"sk-estimator-id-2\" class=\"sk-toggleable__label sk-toggleable__label-arrow\">SVC</label><div class=\"sk-toggleable__content\"><pre>SVC(C=0.25)</pre></div></div></div></div></div>"
      ],
      "text/plain": [
       "SVC(C=0.25)"
      ]
     },
     "execution_count": 18,
     "metadata": {},
     "output_type": "execute_result"
    }
   ],
   "source": [
    "svm = SVC(C=0.25)\n",
    "svm.fit(X_train , y_train)"
   ]
  },
  {
   "cell_type": "code",
   "execution_count": 19,
   "id": "c5f59c09",
   "metadata": {
    "ExecuteTime": {
     "end_time": "2024-03-28T12:03:22.942517200Z",
     "start_time": "2024-03-28T12:03:10.018780600Z"
    },
    "collapsed": false,
    "execution": {
     "iopub.execute_input": "2024-03-28T12:08:28.912314Z",
     "iopub.status.busy": "2024-03-28T12:08:28.910368Z",
     "iopub.status.idle": "2024-03-28T12:08:47.232293Z",
     "shell.execute_reply": "2024-03-28T12:08:47.231252Z"
    },
    "jupyter": {
     "outputs_hidden": false
    },
    "papermill": {
     "duration": 18.333201,
     "end_time": "2024-03-28T12:08:47.234494",
     "exception": false,
     "start_time": "2024-03-28T12:08:28.901293",
     "status": "completed"
    },
    "tags": []
   },
   "outputs": [
    {
     "data": {
      "text/plain": [
       "0.593134328358209"
      ]
     },
     "execution_count": 19,
     "metadata": {},
     "output_type": "execute_result"
    }
   ],
   "source": [
    "svm.score(X_train,y_train)"
   ]
  },
  {
   "cell_type": "code",
   "execution_count": 20,
   "id": "9c64a901",
   "metadata": {
    "ExecuteTime": {
     "end_time": "2024-03-28T12:03:28.530783800Z",
     "start_time": "2024-03-28T12:03:22.940477300Z"
    },
    "collapsed": false,
    "execution": {
     "iopub.execute_input": "2024-03-28T12:08:47.252648Z",
     "iopub.status.busy": "2024-03-28T12:08:47.252253Z",
     "iopub.status.idle": "2024-03-28T12:08:56.410241Z",
     "shell.execute_reply": "2024-03-28T12:08:56.409111Z"
    },
    "jupyter": {
     "outputs_hidden": false
    },
    "papermill": {
     "duration": 9.169341,
     "end_time": "2024-03-28T12:08:56.412283",
     "exception": false,
     "start_time": "2024-03-28T12:08:47.242942",
     "status": "completed"
    },
    "tags": []
   },
   "outputs": [
    {
     "data": {
      "text/plain": [
       "0.58"
      ]
     },
     "execution_count": 20,
     "metadata": {},
     "output_type": "execute_result"
    }
   ],
   "source": [
    "svm.score(X_test,y_test)"
   ]
  },
  {
   "cell_type": "code",
   "execution_count": null,
   "id": "60f12cf4",
   "metadata": {
    "ExecuteTime": {
     "end_time": "2024-03-28T12:03:28.530783800Z",
     "start_time": "2024-03-28T12:03:28.527106800Z"
    },
    "collapsed": false,
    "jupyter": {
     "outputs_hidden": false
    },
    "papermill": {
     "duration": 0.007825,
     "end_time": "2024-03-28T12:08:56.428510",
     "exception": false,
     "start_time": "2024-03-28T12:08:56.420685",
     "status": "completed"
    },
    "tags": []
   },
   "outputs": [],
   "source": []
  }
 ],
 "metadata": {
  "kaggle": {
   "accelerator": "none",
   "dataSources": [
    {
     "datasetId": 4592972,
     "sourceId": 7835733,
     "sourceType": "datasetVersion"
    }
   ],
   "isGpuEnabled": false,
   "isInternetEnabled": true,
   "language": "python",
   "sourceType": "notebook"
  },
  "kernelspec": {
   "display_name": "Python 3",
   "language": "python",
   "name": "python3"
  },
  "language_info": {
   "codemirror_mode": {
    "name": "ipython",
    "version": 3
   },
   "file_extension": ".py",
   "mimetype": "text/x-python",
   "name": "python",
   "nbconvert_exporter": "python",
   "pygments_lexer": "ipython3",
   "version": "3.10.13"
  },
  "papermill": {
   "default_parameters": {},
   "duration": 147.443031,
   "end_time": "2024-03-28T12:08:57.056798",
   "environment_variables": {},
   "exception": null,
   "input_path": "__notebook__.ipynb",
   "output_path": "__notebook__.ipynb",
   "parameters": {},
   "start_time": "2024-03-28T12:06:29.613767",
   "version": "2.5.0"
  }
 },
 "nbformat": 4,
 "nbformat_minor": 5
}
